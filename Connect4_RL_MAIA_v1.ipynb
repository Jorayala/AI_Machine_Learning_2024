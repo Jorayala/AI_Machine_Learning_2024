{
  "nbformat": 4,
  "nbformat_minor": 0,
  "metadata": {
    "colab": {
      "provenance": [],
      "authorship_tag": "ABX9TyMsQzocsfHbWTQaZ9aZfzqA",
      "include_colab_link": true
    },
    "kernelspec": {
      "name": "python3",
      "display_name": "Python 3"
    },
    "language_info": {
      "name": "python"
    }
  },
  "cells": [
    {
      "cell_type": "markdown",
      "metadata": {
        "id": "view-in-github",
        "colab_type": "text"
      },
      "source": [
        "<a href=\"https://colab.research.google.com/github/Jorayala/AI_Master_UniAndes_2024/blob/main/Connect4_RL_MAIA_v1.ipynb\" target=\"_parent\"><img src=\"https://colab.research.google.com/assets/colab-badge.svg\" alt=\"Open In Colab\"/></a>"
      ]
    },
    {
      "cell_type": "code",
      "source": [
        "# Import required libraries\n",
        "import gym\n",
        "import os\n",
        "import numpy as np\n",
        "import matplotlib.pyplot as plt"
      ],
      "metadata": {
        "id": "4bAMZW5m2km5"
      },
      "execution_count": 26,
      "outputs": []
    },
    {
      "cell_type": "code",
      "source": [
        "!pip install tensorflow\n",
        "import tensorflow as tf"
      ],
      "metadata": {
        "colab": {
          "base_uri": "https://localhost:8080/"
        },
        "id": "80GZLbbR8lZ3",
        "outputId": "28d733d9-8a66-40ed-a15e-28c27b561d31"
      },
      "execution_count": 29,
      "outputs": [
        {
          "output_type": "stream",
          "name": "stdout",
          "text": [
            "Requirement already satisfied: tensorflow in /usr/local/lib/python3.10/dist-packages (2.17.0)\n",
            "Requirement already satisfied: absl-py>=1.0.0 in /usr/local/lib/python3.10/dist-packages (from tensorflow) (1.4.0)\n",
            "Requirement already satisfied: astunparse>=1.6.0 in /usr/local/lib/python3.10/dist-packages (from tensorflow) (1.6.3)\n",
            "Requirement already satisfied: flatbuffers>=24.3.25 in /usr/local/lib/python3.10/dist-packages (from tensorflow) (24.3.25)\n",
            "Requirement already satisfied: gast!=0.5.0,!=0.5.1,!=0.5.2,>=0.2.1 in /usr/local/lib/python3.10/dist-packages (from tensorflow) (0.6.0)\n",
            "Requirement already satisfied: google-pasta>=0.1.1 in /usr/local/lib/python3.10/dist-packages (from tensorflow) (0.2.0)\n",
            "Requirement already satisfied: h5py>=3.10.0 in /usr/local/lib/python3.10/dist-packages (from tensorflow) (3.12.1)\n",
            "Requirement already satisfied: libclang>=13.0.0 in /usr/local/lib/python3.10/dist-packages (from tensorflow) (18.1.1)\n",
            "Requirement already satisfied: ml-dtypes<0.5.0,>=0.3.1 in /usr/local/lib/python3.10/dist-packages (from tensorflow) (0.4.1)\n",
            "Requirement already satisfied: opt-einsum>=2.3.2 in /usr/local/lib/python3.10/dist-packages (from tensorflow) (3.4.0)\n",
            "Requirement already satisfied: packaging in /usr/local/lib/python3.10/dist-packages (from tensorflow) (24.1)\n",
            "Requirement already satisfied: protobuf!=4.21.0,!=4.21.1,!=4.21.2,!=4.21.3,!=4.21.4,!=4.21.5,<5.0.0dev,>=3.20.3 in /usr/local/lib/python3.10/dist-packages (from tensorflow) (3.20.3)\n",
            "Requirement already satisfied: requests<3,>=2.21.0 in /usr/local/lib/python3.10/dist-packages (from tensorflow) (2.32.3)\n",
            "Requirement already satisfied: setuptools in /usr/local/lib/python3.10/dist-packages (from tensorflow) (75.1.0)\n",
            "Requirement already satisfied: six>=1.12.0 in /usr/local/lib/python3.10/dist-packages (from tensorflow) (1.16.0)\n",
            "Requirement already satisfied: termcolor>=1.1.0 in /usr/local/lib/python3.10/dist-packages (from tensorflow) (2.5.0)\n",
            "Requirement already satisfied: typing-extensions>=3.6.6 in /usr/local/lib/python3.10/dist-packages (from tensorflow) (4.12.2)\n",
            "Requirement already satisfied: wrapt>=1.11.0 in /usr/local/lib/python3.10/dist-packages (from tensorflow) (1.16.0)\n",
            "Requirement already satisfied: grpcio<2.0,>=1.24.3 in /usr/local/lib/python3.10/dist-packages (from tensorflow) (1.64.1)\n",
            "Requirement already satisfied: tensorboard<2.18,>=2.17 in /usr/local/lib/python3.10/dist-packages (from tensorflow) (2.17.0)\n",
            "Requirement already satisfied: keras>=3.2.0 in /usr/local/lib/python3.10/dist-packages (from tensorflow) (3.4.1)\n",
            "Requirement already satisfied: tensorflow-io-gcs-filesystem>=0.23.1 in /usr/local/lib/python3.10/dist-packages (from tensorflow) (0.37.1)\n",
            "Requirement already satisfied: numpy<2.0.0,>=1.23.5 in /usr/local/lib/python3.10/dist-packages (from tensorflow) (1.26.4)\n",
            "Requirement already satisfied: wheel<1.0,>=0.23.0 in /usr/local/lib/python3.10/dist-packages (from astunparse>=1.6.0->tensorflow) (0.44.0)\n",
            "Requirement already satisfied: rich in /usr/local/lib/python3.10/dist-packages (from keras>=3.2.0->tensorflow) (13.9.3)\n",
            "Requirement already satisfied: namex in /usr/local/lib/python3.10/dist-packages (from keras>=3.2.0->tensorflow) (0.0.8)\n",
            "Requirement already satisfied: optree in /usr/local/lib/python3.10/dist-packages (from keras>=3.2.0->tensorflow) (0.13.0)\n",
            "Requirement already satisfied: charset-normalizer<4,>=2 in /usr/local/lib/python3.10/dist-packages (from requests<3,>=2.21.0->tensorflow) (3.4.0)\n",
            "Requirement already satisfied: idna<4,>=2.5 in /usr/local/lib/python3.10/dist-packages (from requests<3,>=2.21.0->tensorflow) (3.10)\n",
            "Requirement already satisfied: urllib3<3,>=1.21.1 in /usr/local/lib/python3.10/dist-packages (from requests<3,>=2.21.0->tensorflow) (2.2.3)\n",
            "Requirement already satisfied: certifi>=2017.4.17 in /usr/local/lib/python3.10/dist-packages (from requests<3,>=2.21.0->tensorflow) (2024.8.30)\n",
            "Requirement already satisfied: markdown>=2.6.8 in /usr/local/lib/python3.10/dist-packages (from tensorboard<2.18,>=2.17->tensorflow) (3.7)\n",
            "Requirement already satisfied: tensorboard-data-server<0.8.0,>=0.7.0 in /usr/local/lib/python3.10/dist-packages (from tensorboard<2.18,>=2.17->tensorflow) (0.7.2)\n",
            "Requirement already satisfied: werkzeug>=1.0.1 in /usr/local/lib/python3.10/dist-packages (from tensorboard<2.18,>=2.17->tensorflow) (3.0.6)\n",
            "Requirement already satisfied: MarkupSafe>=2.1.1 in /usr/local/lib/python3.10/dist-packages (from werkzeug>=1.0.1->tensorboard<2.18,>=2.17->tensorflow) (3.0.2)\n",
            "Requirement already satisfied: markdown-it-py>=2.2.0 in /usr/local/lib/python3.10/dist-packages (from rich->keras>=3.2.0->tensorflow) (3.0.0)\n",
            "Requirement already satisfied: pygments<3.0.0,>=2.13.0 in /usr/local/lib/python3.10/dist-packages (from rich->keras>=3.2.0->tensorflow) (2.18.0)\n",
            "Requirement already satisfied: mdurl~=0.1 in /usr/local/lib/python3.10/dist-packages (from markdown-it-py>=2.2.0->rich->keras>=3.2.0->tensorflow) (0.1.2)\n"
          ]
        }
      ]
    },
    {
      "cell_type": "code",
      "source": [
        "# ConnectFour Environment definition\n",
        "class ConnectFourGym(gym.Env):\n",
        "    def __init__(self, agent2=\"random\"):\n",
        "        self.rows = 6\n",
        "        self.columns = 7\n",
        "        self.action_space = gym.spaces.Discrete(self.columns)\n",
        "        self.observation_space = gym.spaces.Box(low=0, high=1, shape=(self.rows, self.columns), dtype=np.float64)\n",
        "        self.q_table = {}  # Dictionary-based Q-table\n",
        "        self.reset()\n",
        "\n",
        "    def reset(self):\n",
        "        self.board = np.zeros((self.rows, self.columns), dtype=np.float64)\n",
        "        self.current_player = 1\n",
        "        return self._get_observation()\n",
        "\n",
        "    def _get_observation(self):\n",
        "        # Convert the board to a tuple to use it as a key in the dictionary\n",
        "        return tuple(map(tuple, self.board))\n",
        "\n",
        "    def change_reward(self, old_reward, done):\n",
        "        if old_reward == 1:  # The agent won the game\n",
        "            return 1\n",
        "        elif done:  # The opponent won the game\n",
        "            return -1\n",
        "        else:  # Reward 1/42\n",
        "            return 1 / (self.rows * self.columns)\n",
        "\n",
        "    def step(self, action):\n",
        "        if self.board[0, action] != 0:  # Invalid move\n",
        "            reward, done = -10, True\n",
        "        else:\n",
        "            # Place the piece in the lowest available row\n",
        "            for row in range(self.rows - 1, -1, -1):\n",
        "                if self.board[row, action] == 0:\n",
        "                    self.board[row, action] = self.current_player\n",
        "                    break\n",
        "            # Check for win or draw\n",
        "            done = self._check_done()\n",
        "            reward = 1 if done and self._check_winner() else 0\n",
        "            reward = self.change_reward(reward, done)\n",
        "            self.current_player = 3 - self.current_player  # Switch player\n",
        "\n",
        "        # Get the current state as a tuple\n",
        "        state = self._get_observation()\n",
        "\n",
        "        # Check if the state is in the Q-table, if not, initialize it\n",
        "        if state not in self.q_table:\n",
        "            self.q_table[state] = np.zeros(self.columns)\n",
        "\n",
        "        return self._get_observation(), reward, done, {}\n",
        "\n",
        "    def _check_done(self):\n",
        "        return np.all(self.board != 0) or self._check_winner()\n",
        "\n",
        "    def _check_winner(self):\n",
        "        # Check for four in a row (horizontal, vertical, diagonal)\n",
        "        for row in range(self.rows):\n",
        "            for col in range(self.columns - 3):\n",
        "                if self.board[row, col] == self.current_player == self.board[row, col + 1] == self.board[row, col + 2] == self.board[row, col + 3]:\n",
        "                    return True\n",
        "        for row in range(self.rows - 3):\n",
        "            for col in range(self.columns):\n",
        "                if self.board[row, col] == self.current_player == self.board[row + 1, col] == self.board[row + 2, col] == self.board[row + 3, col]:\n",
        "                    return True\n",
        "        for row in range(self.rows - 3):\n",
        "            for col in range(self.columns - 3):\n",
        "                if self.board[row, col] == self.current_player == self.board[row + 1, col + 1] == self.board[row + 2, col + 2] == self.board[row + 3, col + 3]:\n",
        "                    return True\n",
        "        for row in range(3, self.rows):\n",
        "            for col in range(self.columns - 3):\n",
        "                if self.board[row, col] == self.current_player == self.board[row - 1, col + 1] == self.board[row - 2, col + 2] == self.board[row - 3, col + 3]:\n",
        "                    return"
      ],
      "metadata": {
        "id": "_qZguyoB9gcZ"
      },
      "execution_count": 32,
      "outputs": []
    },
    {
      "cell_type": "code",
      "source": [
        "# Create ConnectFour environment\n",
        "env = ConnectFourGym()\n",
        "\n",
        "# Q-Learning parameters\n",
        "alpha = 0.1  # Learning rate\n",
        "gamma = 0.95  # Discount factor\n",
        "epsilon = 1.0  # Exploration rate\n",
        "epsilon_decay = 0.995\n",
        "epsilon_min = 0.01\n",
        "episodes = 10000\n",
        "\n"
      ],
      "metadata": {
        "id": "o5O3oeEj2pxi"
      },
      "execution_count": 33,
      "outputs": []
    },
    {
      "source": [
        "# Q-Learning algorithm\n",
        "for episode in range(episodes):\n",
        "    state = env.reset()\n",
        "    # Flatten the state tuple and then convert to index\n",
        "    state_index = int(sum([val * (3 ** i) for i, val in enumerate(np.array(state).flatten())]))\n",
        "    done = False\n",
        "    while not done:\n",
        "        # Exploration-exploitation trade-off\n",
        "        if np.random.rand() < epsilon:\n",
        "            action = env.action_space.sample()  # Explore: select a random action\n",
        "        else:\n",
        "            # If state_index is not in the q_table, initialize it\n",
        "            if state_index not in env.q_table:\n",
        "                env.q_table[state_index] = np.zeros(env.columns)\n",
        "            action = np.argmax(env.q_table[state_index])  # Exploit: select the action with max value (greedy)\n",
        "\n",
        "        next_state, reward, done, _ = env.step(action)\n",
        "        # Flatten the next_state tuple and then convert to index\n",
        "        next_state_index = int(sum([val * (3 ** i) for i, val in enumerate(np.array(next_state).flatten())]))\n",
        "\n",
        "        # Q-learning update\n",
        "        # If next_state_index is not in the q_table, initialize it\n",
        "        if next_state_index not in env.q_table:\n",
        "            env.q_table[next_state_index] = np.zeros(env.columns)\n",
        "\n",
        "        best_next_action = np.argmax(env.q_table[next_state_index])\n",
        "        # Access the Q-value using next_state_index and best_next_action as indices\n",
        "        td_target = reward + gamma * env.q_table[next_state_index][best_next_action] * (not done)\n",
        "        # Make sure state_index is in the q_table before accessing it\n",
        "        if state_index not in env.q_table:\n",
        "            env.q_table[state_index] = np.zeros(env.columns)\n",
        "\n",
        "        td_error = td_target - env.q_table[state_index][action] # Access the Q-value using state_index and action as indices\n",
        "        env.q_table[state_index][action] += alpha * td_error # Access the Q-value using state_index and action as indices\n",
        "\n",
        "        state_index = next_state_index\n",
        "\n",
        "    # Decrease epsilon\n",
        "    if epsilon > epsilon_min:\n",
        "        epsilon *= epsilon_decay\n",
        "\n",
        "# Save the Q-table\n",
        "np.save(\"connect4_q_table.npy\", env.q_table)"
      ],
      "cell_type": "code",
      "metadata": {
        "id": "8dJGMD334UD0"
      },
      "execution_count": 34,
      "outputs": []
    },
    {
      "source": [
        "# Test the trained agent\n",
        "def test_agent(env, q_table, episodes=10):\n",
        "    for episode in range(episodes):\n",
        "        state = env.reset()\n",
        "        # Flatten the state tuple and then convert to index\n",
        "        state_index = int(sum([val * (3 ** i) for i, val in enumerate(np.array(state).flatten())]))\n",
        "        done = False\n",
        "        while not done:\n",
        "            # Accessing q_table with the integer index directly\n",
        "            # If state_index is not in q_table, default to zeros\n",
        "            action = np.argmax(q_table.get(state_index, np.zeros(env.columns)) if isinstance(q_table, dict) else \\\n",
        "                                (q_table[state_index] if state_index in q_table else np.zeros(env.columns)))\n",
        "            state, reward, done, _ = env.step(action)\n",
        "            # Flatten the state tuple and then convert to index\n",
        "            state_index = int(sum([val * (3 ** i) for i, val in enumerate(np.array(state).flatten())]))"
      ],
      "cell_type": "code",
      "metadata": {
        "id": "UoS6PENx49wx"
      },
      "execution_count": 35,
      "outputs": []
    },
    {
      "source": [
        "# Load and test the trained Q-table\n",
        "q_table = np.load(\"connect4_q_table.npy\", allow_pickle=True).item() # Load as dictionary using .item()\n",
        "test_agent(env, q_table, episodes=5)\n",
        "\n",
        "# Visualize the Q-table using matplotlib\n",
        "def visualize_q_table(q_table, columns=7):\n",
        "    # Check if the Q-table is a dictionary and convert it to a numpy array if needed\n",
        "    if isinstance(q_table, dict):\n",
        "        q_table_array = np.array(list(q_table.values()))\n",
        "    else:\n",
        "        q_table_array = q_table\n",
        "\n",
        "    # If q_table_array is not empty, calculate the average Q-values\n",
        "    if q_table_array.size > 0:\n",
        "        avg_q_values = np.mean(q_table_array, axis=0)\n",
        "        plt.bar(range(columns), avg_q_values)\n",
        "        plt.xlabel('Actions (Columns)')\n",
        "        plt.ylabel('Average Q-value')\n",
        "        plt.title('Average Q-value for each action')\n",
        "        plt.show()\n",
        "    else:\n",
        "        print(\"Q-table is empty. Cannot visualize.\")\n",
        "\n",
        "# Call the visualization function\n",
        "visualize_q_table(q_table, env.columns)  # Pass env.columns for flexibility"
      ],
      "cell_type": "code",
      "metadata": {
        "colab": {
          "base_uri": "https://localhost:8080/",
          "height": 472
        },
        "id": "q2MZ_pNh92hK",
        "outputId": "2927fffa-5ce6-41d1-f9d8-db1950b67d4d"
      },
      "execution_count": 38,
      "outputs": [
        {
          "output_type": "display_data",
          "data": {
            "text/plain": [
              "<Figure size 640x480 with 1 Axes>"
            ],
            "image/png": "[encoded data removed]"
          },
          "metadata": {}
        }
      ]
    }
  ]
}