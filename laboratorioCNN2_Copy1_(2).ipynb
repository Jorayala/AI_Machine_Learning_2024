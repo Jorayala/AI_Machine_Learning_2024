{
  "cells": [
    {
      "cell_type": "markdown",
      "metadata": {
        "id": "view-in-github",
        "colab_type": "text"
      },
      "source": [
        "<a href=\"https://colab.research.google.com/github/Jorayala/AI_Machine_Learning_2024/blob/main/laboratorioCNN2_Copy1_(2).ipynb\" target=\"_parent\"><img src=\"https://colab.research.google.com/assets/colab-badge.svg\" alt=\"Open In Colab\"/></a>"
      ]
    },
    {
      "cell_type": "markdown",
      "metadata": {
        "deletable": false,
        "editable": false,
        "id": "aATFaa3gE3E0",
        "nbgrader": {
          "cell_type": "markdown",
          "checksum": "9cc65a73210f90208a6124c0e8de0184",
          "grade": false,
          "grade_id": "cell-579cd363e0b1311b",
          "locked": true,
          "schema_version": 3,
          "solution": false,
          "task": false
        }
      },
      "source": [
        "# Clasificación de imágenes conjunto de datos Fashion MNIST\n",
        "## Actividad Práctica\n",
        "\n",
        "En esta sección se empleará el conjunto de datos Fashion MNIST, una colección de imágenes que representa prendas de vestir, calzado y accesorios en el mundo de la moda. Fashion MNIST es ampliamente reconocido en el campo del aprendizaje automático y la visión por computadora como una alternativa al conjunto de datos Digits MNIST. Al igual que Digits MNIST, el conjunto de datos Fashion MNIST consta de 70.000 imágenes en blanco y negro. De estas, 60.000 están destinadas al entrenamiento de modelos, mientras que las 10.000 restantes se reservan para pruebas y evaluación de rendimiento. Cada imagen tiene una dimensión de 28 x 28 píxeles y se representa en un solo canal de color.\n",
        "\n",
        "En este laboratorio, se utilizará el conjunto de datos Fashion MNIST con el objetivo de diseñar y entrenar un modelo neuronal convolucional (CNN) para alcanzar una precisión de clasificación superior al 90% en el conjunto de prueba. Te proporcionaremos una función que crea la arquitectura inicial del modelo CNN y una plantilla de compilación. Tu tarea es ajustar esta arquitectura y la configuración de compilación de acuerdo con tus conocimientos. Tienes total libertad para agregar, eliminar o ajustar elementos en la arquitectura y cambiar los hiperparámetros según sea necesario. Además puedes usar las funciones de validación y visualización de resultados para observar el desempeño de tu modelo. Cuando consideres que tu modelo ha superado el umbral del 90% de precisión, podrás enviarlo para su evaluación interna.\n"
      ]
    },
    {
      "cell_type": "code",
      "source": [
        "from google.colab import drive\n",
        "drive.mount('/content/drive')"
      ],
      "metadata": {
        "colab": {
          "base_uri": "https://localhost:8080/"
        },
        "id": "Bx7uO1BVlgmA",
        "outputId": "676b8143-0f3b-4dc1-b227-2d3f97a206e3"
      },
      "execution_count": 1,
      "outputs": [
        {
          "output_type": "stream",
          "name": "stdout",
          "text": [
            "Mounted at /content/drive\n"
          ]
        }
      ]
    },
    {
      "cell_type": "code",
      "execution_count": null,
      "metadata": {
        "deletable": false,
        "editable": false,
        "id": "WIe5Wn3OI1ew",
        "nbgrader": {
          "cell_type": "code",
          "checksum": "6d266c04e2ec77e09e4c64601cdd2c9f",
          "grade": false,
          "grade_id": "cell-35c9ee96900d7dbe",
          "locked": true,
          "schema_version": 3,
          "solution": false,
          "task": false
        }
      },
      "outputs": [],
      "source": [
        "# Celda con la importación de librerias\n",
        "\n",
        "import tensorflow as tf         # Importar TensorFlow\n",
        "from tensorflow import keras    # Importar la APItensorflow.keras de TensorFlow\n",
        "\n",
        "import numpy as np              # Librería para trabajar don datos matriciales\n",
        "\n",
        "import matplotlib.pyplot as plt # Librería para gráficas y visualización\n",
        "\n",
        "# Inicialización de semillas\n",
        "tf.random.set_seed(42)\n",
        "np.random.seed(42)"
      ]
    },
    {
      "cell_type": "code",
      "execution_count": null,
      "metadata": {
        "deletable": false,
        "editable": false,
        "id": "8jX-cvAaE-DY",
        "nbgrader": {
          "cell_type": "code",
          "checksum": "1ee4c7d73e2e902e406b08b655f74404",
          "grade": false,
          "grade_id": "cell-bec0f6cdba57d958",
          "locked": true,
          "schema_version": 3,
          "solution": false,
          "task": false
        }
      },
      "outputs": [],
      "source": [
        "# Conjunto de datos Fashion MNIST\n",
        "from tensorflow.keras.datasets import fashion_mnist"
      ]
    },
    {
      "cell_type": "code",
      "execution_count": null,
      "metadata": {
        "deletable": false,
        "editable": false,
        "id": "U3mgvTbLJpyc",
        "nbgrader": {
          "cell_type": "code",
          "checksum": "cc093f9e49a6440065b67b012155765e",
          "grade": false,
          "grade_id": "cell-621023b0021a46dd",
          "locked": true,
          "schema_version": 3,
          "solution": false,
          "task": false
        }
      },
      "outputs": [],
      "source": [
        "# Librería para codificar etiquetas en one-hot\n",
        "from tensorflow.keras.utils import to_categorical"
      ]
    },
    {
      "cell_type": "code",
      "execution_count": null,
      "metadata": {
        "deletable": false,
        "editable": false,
        "id": "gDnluIjENiZI",
        "nbgrader": {
          "cell_type": "code",
          "checksum": "cf0833de29d8d691cc65f85072230229",
          "grade": false,
          "grade_id": "cell-9e7698faa0d4a5d4",
          "locked": true,
          "schema_version": 3,
          "solution": false,
          "task": false
        }
      },
      "outputs": [],
      "source": [
        "def load_data(mnist):\n",
        "    \"\"\"\n",
        "    Esta función carga al entorno de trabajo los datos de entrenamiento, y prueba. Con sus\n",
        "    etiquetas codificadas con one-hot.\n",
        "    Parámetros de entrada:\n",
        "    mnist = Clase detensorflow.keras.datsets con el conjunto de datos fashion mnist\n",
        "    Parámetros de salida:\n",
        "    X_train = Conjunto de datos para entrenamiento\n",
        "    X_test = Conjunto de datos para prueba\n",
        "    y_train_onehot = Etiquetas del conjunto de entrenamiento codificadas en one-hot\n",
        "    y_test_onehot = Etiquetas del conjunto de prueba codificadas en one-hot\n",
        "    y_train = Etiqueta original del conjunto de entrenamiento\n",
        "    y_test = Etiqueta original del conjunto de prueba\n",
        "    \"\"\"\n",
        "\n",
        "    # Establecer el conjunto de entrenamiento y el conjunto de prueba con sus respectivas\n",
        "    # etiquetas\n",
        "    (X_train, y_train), (X_test, y_test) = mnist.load_data()\n",
        "\n",
        "    # Normalización de los valores de los pixeles de las imágenes\n",
        "    X_train, X_test = X_train / 255.0, X_test / 255.0\n",
        "\n",
        "    # Codificación One-Hot para las etiquetas\n",
        "    y_train_onehot = to_categorical(y_train)\n",
        "    y_test_onehot =  to_categorical(y_test)\n",
        "\n",
        "    print(f'Conjunto de datos cargados')\n",
        "    print(f'Tamaño imágenes de entrenamiento {X_train.shape}')\n",
        "    print(f'Tamaño imágenes de test {X_test.shape}')\n",
        "    print(f'Datos por cada etiqueta en X train {np.bincount(y_train)}')\n",
        "\n",
        "    return X_train.reshape((60000, 28, 28, 1)), X_test.reshape((10000, 28, 28, 1)), y_train_onehot, y_test_onehot, y_train, y_test\n",
        "### END READ ONLY"
      ]
    },
    {
      "cell_type": "code",
      "execution_count": null,
      "metadata": {
        "colab": {
          "base_uri": "https://localhost:8080/"
        },
        "deletable": false,
        "editable": false,
        "id": "JzuCvyHQJKkh",
        "nbgrader": {
          "cell_type": "code",
          "checksum": "896ac7d1e1aa479c9692bc94a34e5796",
          "grade": false,
          "grade_id": "cell-f9649e29c9fbcab5",
          "locked": true,
          "schema_version": 3,
          "solution": false,
          "task": false
        },
        "outputId": "fc86db06-d096-4a91-d374-76b39ff2fbbb"
      },
      "outputs": [
        {
          "name": "stdout",
          "output_type": "stream",
          "text": [
            "Conjunto de datos cargados\n",
            "Tamaño imágenes de entrenamiento (60000, 28, 28)\n",
            "Tamaño imágenes de test (10000, 28, 28)\n",
            "Datos por cada etiqueta en X train [6000 6000 6000 6000 6000 6000 6000 6000 6000 6000]\n"
          ]
        }
      ],
      "source": [
        "X_train, X_test, y_train_onehot, y_test_onehot, y_train, y_test = load_data(fashion_mnist)"
      ]
    },
    {
      "cell_type": "code",
      "execution_count": null,
      "metadata": {
        "deletable": false,
        "editable": false,
        "id": "K6bUDP61NL6_",
        "nbgrader": {
          "cell_type": "code",
          "checksum": "a7468ce9bb92219b483b7c006af9ec3a",
          "grade": false,
          "grade_id": "cell-8a8a3db6a2714baf",
          "locked": true,
          "schema_version": 3,
          "solution": false,
          "task": false
        }
      },
      "outputs": [],
      "source": [
        "def visualize_instances(X_data, y_data):\n",
        "    \"\"\"\n",
        "    Esta función visualiza una instancia de cada categoria del conjunto mnist\n",
        "    Parámetros de entrada:\n",
        "    X_data = Instancias\n",
        "    y_data = Etiquetas\n",
        "    Parámetros de salida:\n",
        "    Grafica con la visualización de la imagen por cada isntancia.\n",
        "    \"\"\"\n",
        "    fig, ax = plt.subplots(nrows=2, ncols=5, sharex=True, sharey=True, figsize=(10, 5))\n",
        "    ax = ax.flatten()\n",
        "    for i in range(10):\n",
        "        img = X_data[y_data == i][0].reshape((28, 28))\n",
        "        ax[i].imshow(img, cmap='gist_yarg')\n",
        "        ax[0].set_xticks([])\n",
        "        ax[0].set_yticks([])\n",
        "    return plt.show()"
      ]
    },
    {
      "cell_type": "code",
      "execution_count": null,
      "metadata": {
        "colab": {
          "base_uri": "https://localhost:8080/",
          "height": 380
        },
        "deletable": false,
        "editable": false,
        "id": "Wt30iomGJ2mO",
        "nbgrader": {
          "cell_type": "code",
          "checksum": "9030c0c17fbe4d1d052a02614b7eeb5b",
          "grade": false,
          "grade_id": "cell-b50bc0d7ece43618",
          "locked": true,
          "schema_version": 3,
          "solution": false,
          "task": false
        },
        "outputId": "c710a5e1-2f27-4b1f-c6b9-a08c9fb109a9"
      },
      "outputs": [
        {
          "data": {
            "image/png": "[encoded data removed]",
            "text/plain": [
              "<Figure size 720x360 with 10 Axes>"
            ]
          },
          "metadata": {},
          "output_type": "display_data"
        }
      ],
      "source": [
        "visualize_instances(X_train, y_train)"
      ]
    },
    {
      "cell_type": "code",
      "execution_count": null,
      "metadata": {
        "id": "i4rBrBrzNuPZ"
      },
      "outputs": [],
      "source": [
        "from tensorflow.keras.models import Sequential\n",
        "from tensorflow.keras.layers import Input, Dense, Conv2D, MaxPooling2D, Flatten\n",
        "\n",
        "def load_model():\n",
        "    \"\"\"\n",
        "    Esta función construye un modelo neuronal convolucional para el problema de clasificación\n",
        "    con Fashion MNIST.\n",
        "\n",
        "    Modifica esta función a tu gusto.\n",
        "\n",
        "    Salida:\n",
        "    model = modelo neuronal convolucional entensorflow.keras\n",
        "    \"\"\"\n",
        "\n",
        "    # Inicio del modelo con el nombre pasado por parámetro\n",
        "    model = Sequential()\n",
        "\n",
        "    # Capa de entrada dimensiones consistentes con las dimensiones de las imágenes de MNIST\n",
        "    model.add(Input(shape=(28, 28, 1), name = 'Input'))\n",
        "\n",
        "    # Modifica las capas como consideres necesario\n",
        "\n",
        "    # Ingresa tu código aqui\n",
        "\n",
        "    # Primera capa convolucinal Kernel de 3x3 y 2 filtros\n",
        "    model.add(Conv2D(16, (3, 3), activation='relu', padding='same'))\n",
        "    # Capa de MaxPooling\n",
        "    model.add(MaxPooling2D(pool_size=(2, 2)))\n",
        "\n",
        "    # Segunda capa convolucinal Kernel de 3x3 y 32 filtros\n",
        "    model.add(Conv2D(32, (3, 3), activation='relu', padding='same'))\n",
        "    # Capa de MaxPooling\n",
        "    model.add(MaxPooling2D(pool_size=(2, 2)))\n",
        "\n",
        "    # Tercer bloque convolucional\n",
        "    model.add(Conv2D(64, (3, 3), activation='relu', padding='same'))  # Añadir una capa adicional de 64 filtros\n",
        "    model.add(MaxPooling2D(pool_size=(2, 2)))\n",
        "\n",
        "\n",
        "    # Capa de aplanamiento\n",
        "    model.add(Flatten())\n",
        "\n",
        "    # Capa de salida\n",
        "    model.add(Dense(10, activation='softmax', name = 'Output'))\n",
        "\n",
        "    return model"
      ]
    },
    {
      "cell_type": "code",
      "execution_count": null,
      "metadata": {
        "colab": {
          "base_uri": "https://localhost:8080/"
        },
        "id": "HwQ_nUjqKtNE",
        "outputId": "05e42a6a-115d-41c6-9f21-1da91d3b5b2c"
      },
      "outputs": [
        {
          "name": "stdout",
          "output_type": "stream",
          "text": [
            "Train on 60000 samples, validate on 10000 samples\n",
            "Epoch 1/30\n",
            "60000/60000 [==============================] - 46s 768us/sample - loss: 0.5553 - accuracy: 0.8034 - val_loss: 0.4164 - val_accuracy: 0.8516\n",
            "Epoch 2/30\n",
            "60000/60000 [==============================] - 45s 758us/sample - loss: 0.3513 - accuracy: 0.8750 - val_loss: 0.3598 - val_accuracy: 0.8706\n",
            "Epoch 3/30\n",
            "60000/60000 [==============================] - 45s 754us/sample - loss: 0.3099 - accuracy: 0.8888 - val_loss: 0.3189 - val_accuracy: 0.8839\n",
            "Epoch 4/30\n",
            "60000/60000 [==============================] - 45s 752us/sample - loss: 0.2813 - accuracy: 0.8979 - val_loss: 0.3064 - val_accuracy: 0.8903\n",
            "Epoch 5/30\n",
            "60000/60000 [==============================] - 45s 750us/sample - loss: 0.2635 - accuracy: 0.9043 - val_loss: 0.2783 - val_accuracy: 0.9020\n",
            "Epoch 6/30\n",
            "60000/60000 [==============================] - 45s 747us/sample - loss: 0.2449 - accuracy: 0.9119 - val_loss: 0.3016 - val_accuracy: 0.8861\n",
            "Epoch 7/30\n",
            "60000/60000 [==============================] - 43s 712us/sample - loss: 0.2302 - accuracy: 0.9165 - val_loss: 0.2694 - val_accuracy: 0.9056\n",
            "Epoch 8/30\n",
            "60000/60000 [==============================] - 42s 705us/sample - loss: 0.2173 - accuracy: 0.9210 - val_loss: 0.2559 - val_accuracy: 0.9062\n",
            "Epoch 9/30\n",
            "60000/60000 [==============================] - 44s 728us/sample - loss: 0.2080 - accuracy: 0.9240 - val_loss: 0.2723 - val_accuracy: 0.9046\n",
            "Epoch 10/30\n",
            "60000/60000 [==============================] - 45s 747us/sample - loss: 0.1976 - accuracy: 0.9273 - val_loss: 0.2615 - val_accuracy: 0.9063\n",
            "Epoch 11/30\n",
            "60000/60000 [==============================] - 45s 752us/sample - loss: 0.1865 - accuracy: 0.9327 - val_loss: 0.2682 - val_accuracy: 0.9090\n",
            "Epoch 12/30\n",
            "60000/60000 [==============================] - 45s 752us/sample - loss: 0.1776 - accuracy: 0.9337 - val_loss: 0.2610 - val_accuracy: 0.9080\n",
            "Epoch 13/30\n",
            "60000/60000 [==============================] - 45s 750us/sample - loss: 0.1667 - accuracy: 0.9385 - val_loss: 0.2600 - val_accuracy: 0.9144\n",
            "Epoch 14/30\n",
            "60000/60000 [==============================] - 45s 744us/sample - loss: 0.1601 - accuracy: 0.9419 - val_loss: 0.2611 - val_accuracy: 0.9089\n",
            "Epoch 15/30\n",
            "60000/60000 [==============================] - 45s 745us/sample - loss: 0.1527 - accuracy: 0.9443 - val_loss: 0.2570 - val_accuracy: 0.9117\n",
            "Epoch 16/30\n",
            "60000/60000 [==============================] - 45s 750us/sample - loss: 0.1474 - accuracy: 0.9448 - val_loss: 0.2768 - val_accuracy: 0.9082\n",
            "Epoch 17/30\n",
            "60000/60000 [==============================] - 45s 748us/sample - loss: 0.1405 - accuracy: 0.9477 - val_loss: 0.2632 - val_accuracy: 0.9139\n",
            "Epoch 18/30\n",
            "60000/60000 [==============================] - 45s 753us/sample - loss: 0.1318 - accuracy: 0.9520 - val_loss: 0.2922 - val_accuracy: 0.9073\n",
            "Epoch 19/30\n",
            "60000/60000 [==============================] - 45s 750us/sample - loss: 0.1245 - accuracy: 0.9545 - val_loss: 0.2861 - val_accuracy: 0.9083\n",
            "Epoch 20/30\n",
            "60000/60000 [==============================] - 45s 745us/sample - loss: 0.1201 - accuracy: 0.9562 - val_loss: 0.2724 - val_accuracy: 0.9099\n",
            "Epoch 21/30\n",
            "60000/60000 [==============================] - 45s 745us/sample - loss: 0.1141 - accuracy: 0.9578 - val_loss: 0.2991 - val_accuracy: 0.9110\n",
            "Epoch 22/30\n",
            "60000/60000 [==============================] - 45s 750us/sample - loss: 0.1084 - accuracy: 0.9606 - val_loss: 0.2904 - val_accuracy: 0.9100\n",
            "Epoch 23/30\n",
            "60000/60000 [==============================] - 45s 748us/sample - loss: 0.1023 - accuracy: 0.9621 - val_loss: 0.2972 - val_accuracy: 0.9112\n",
            "Epoch 24/30\n",
            "60000/60000 [==============================] - 45s 748us/sample - loss: 0.0982 - accuracy: 0.9640 - val_loss: 0.3100 - val_accuracy: 0.9091\n",
            "Epoch 25/30\n",
            "60000/60000 [==============================] - 44s 738us/sample - loss: 0.0930 - accuracy: 0.9665 - val_loss: 0.3226 - val_accuracy: 0.9109\n",
            "Epoch 26/30\n",
            "60000/60000 [==============================] - 44s 737us/sample - loss: 0.0895 - accuracy: 0.9677 - val_loss: 0.3297 - val_accuracy: 0.9107\n",
            "Epoch 27/30\n",
            "60000/60000 [==============================] - 45s 742us/sample - loss: 0.0848 - accuracy: 0.9695 - val_loss: 0.3266 - val_accuracy: 0.9087\n",
            "Epoch 28/30\n",
            "60000/60000 [==============================] - 45s 755us/sample - loss: 0.0831 - accuracy: 0.9698 - val_loss: 0.3635 - val_accuracy: 0.9088\n",
            "Epoch 29/30\n",
            "60000/60000 [==============================] - 45s 757us/sample - loss: 0.0778 - accuracy: 0.9715 - val_loss: 0.3619 - val_accuracy: 0.9094\n",
            "Epoch 30/30\n",
            "60000/60000 [==============================] - 45s 758us/sample - loss: 0.0737 - accuracy: 0.9732 - val_loss: 0.3639 - val_accuracy: 0.9105\n"
          ]
        }
      ],
      "source": [
        "# Compilar y entrenar el modelo\n",
        "\n",
        "# También puedes modificar esta celda, cambiando parámetros de la compilación o del\n",
        "# entrenamiento.\n",
        "\n",
        "from tensorflow.keras.optimizers import Adam\n",
        "opt = Adam(learning_rate=0.001)\n",
        "\n",
        "model = load_model()\n",
        "model.compile(loss='categorical_crossentropy', optimizer=opt, metrics=['accuracy'])\n",
        "resultsFit = model.fit(X_train, y_train_onehot,\n",
        "                    epochs=30,\n",
        "                    batch_size = 64,\n",
        "                    validation_data=(X_test, y_test_onehot))"
      ]
    },
    {
      "cell_type": "code",
      "execution_count": null,
      "metadata": {
        "deletable": false,
        "editable": false,
        "id": "_WqaAYfMN9Hz",
        "nbgrader": {
          "cell_type": "code",
          "checksum": "c4a746e9442cdf1ad8fa65f096453068",
          "grade": false,
          "grade_id": "cell-1c866df50d976968",
          "locked": true,
          "schema_version": 3,
          "solution": false,
          "task": false
        }
      },
      "outputs": [],
      "source": [
        "def visualization_history(resultsFit):\n",
        "    \"\"\"\n",
        "    Esta función grafica las curvas de precisión a lo largo de las épocas de entrenamiento\n",
        "    para el conjunto de prueba como el de validación.\n",
        "    Parámetros:\n",
        "    resultsFit = historial de entrenamiento de un modelo entensorflow.keras\n",
        "    Salida:\n",
        "    Gráfica de la precisión en validación y prueba.\n",
        "    \"\"\"\n",
        "    # Llamado al entrono de la gráfica y fijar tamaño de visualización\n",
        "    fig, axes = plt.subplots(1, 2, figsize=(13, 5))\n",
        "\n",
        "    # Graficar la presición de la historia en entrenamiento\n",
        "    axes[0].plot(range(len(resultsFit.history['accuracy'])), resultsFit.history['accuracy'],\n",
        "           '#5a2ff4', linestyle = \"-\", marker = \"o\",\n",
        "           label='Precisión entrenamiento', lw = 3)\n",
        "\n",
        "    # Graficar la presición de la historia en validación\n",
        "    axes[0].plot(range(len(resultsFit.history['val_accuracy'])), resultsFit.history['val_accuracy'],  '#60d13e',\n",
        "           label='Precisión validación', linestyle = '-', marker = 'o', lw = 3)\n",
        "\n",
        "    # Umbral 90% de precisión\n",
        "    axes[0].plot(range(len(resultsFit.history['val_accuracy'])), 0.9*np.ones(len(resultsFit.history['val_accuracy'])),\n",
        "               'red', lw = 3, label = 'Umbral')\n",
        "\n",
        "    # Títulos de los ejes\n",
        "    axes[0].set_xlabel('Época',fontsize=16)\n",
        "    axes[0].set_ylabel(r'Precisión',fontsize=16)\n",
        "    axes[0].set_ylim(top=1) # Límite de la grafica\n",
        "    axes[0].grid()      # Activar la cuadricula\n",
        "    axes[0].legend(fontsize=14,loc = 'lower right')   # Establecer la legenda\n",
        "\n",
        "\n",
        "    # Graficar la pérdida de la historia en entrenamiento\n",
        "    axes[1].plot(range(len(resultsFit.history['loss'])), resultsFit.history['loss'],\n",
        "           '#5a2ff4', linestyle = \"-\", marker = \"o\",\n",
        "           label='Pérdida entrenamiento', lw = 3)\n",
        "\n",
        "    # Graficar la presición de la historia en validación\n",
        "    axes[1].plot(range(len(resultsFit.history['val_loss'])), resultsFit.history['val_loss'],  '#60d13e',\n",
        "           label='Pérdida validación', linestyle = '-', marker = 'o', lw = 3)\n",
        "\n",
        "    # Títulos de los ejes\n",
        "    axes[1].set_xlabel('Época',fontsize=16)\n",
        "    axes[1].set_ylabel(r'Pérdida',fontsize=16)\n",
        "    axes[1].grid()      # Activar la cuadricula\n",
        "    axes[1].legend(fontsize=14,loc = 'upper right')   # Establecer la legenda\n",
        "\n",
        "\n",
        "    plt.tight_layout() # Ajusta automáticamente el diseño de la figura\n",
        "    plt.show()"
      ]
    },
    {
      "cell_type": "code",
      "execution_count": null,
      "metadata": {
        "colab": {
          "base_uri": "https://localhost:8080/",
          "height": 397
        },
        "deletable": false,
        "editable": false,
        "id": "IZTJ6Q8oLWRu",
        "nbgrader": {
          "cell_type": "code",
          "checksum": "a9b27a5f4e33c3a40975f72a258b9f4f",
          "grade": false,
          "grade_id": "cell-b7deee0a19a3bb19",
          "locked": true,
          "schema_version": 3,
          "solution": false,
          "task": false
        },
        "outputId": "f597c9c5-f7db-43ca-c4e5-092621dd9528"
      },
      "outputs": [
        {
          "data": {
            "image/png": "[encoded data removed]",
            "text/plain": [
              "<Figure size 936x360 with 2 Axes>"
            ]
          },
          "metadata": {
            "needs_background": "light"
          },
          "output_type": "display_data"
        }
      ],
      "source": [
        "# Llamado a la función de visualización de las métricas de la historia del entrenamiento\n",
        "# del modelo, en la prrimera gráfica se presenta la precisión y en la segunda la pérdida\n",
        "visualization_history(resultsFit)"
      ]
    },
    {
      "cell_type": "markdown",
      "metadata": {
        "deletable": false,
        "editable": false,
        "id": "ouD3BrduNNj8",
        "nbgrader": {
          "cell_type": "markdown",
          "checksum": "c523eb19d881df9ca1718a079f4558b7",
          "grade": false,
          "grade_id": "cell-84147c3bd17f69f3",
          "locked": true,
          "schema_version": 3,
          "solution": false,
          "task": false
        }
      },
      "source": [
        "**Verifica que tu modelo supere el umbral de precisión del 90%, para esto las curvas de precisión en el conjunto de prueba, (curva de color verde) debe situarse por encima de la linea de color rojo.** Cuando estes listo selecciona el botón **Enviar tarea**, al enviar tu laboratorio se calificará automáticamente.\n",
        "\n",
        "**Ayuda:** Puedes intentar cambiando el optimizador a la clase **adam**, modificar en la arquitectura base de 2 filtros a 16 en la primera capa convolucional y agregar otra capa convolucional de 32 filtros. Probando esta configuración de seguro se supera el umbral"
      ]
    },
    {
      "cell_type": "code",
      "execution_count": null,
      "metadata": {
        "deletable": false,
        "editable": false,
        "nbgrader": {
          "cell_type": "code",
          "checksum": "f84572fb0ed6fcebccbaf9639dfb607a",
          "grade": true,
          "grade_id": "cell-a57cfba1111c620c",
          "locked": true,
          "points": 100,
          "schema_version": 3,
          "solution": false,
          "task": false
        },
        "id": "b3sf_zOEjw2d"
      },
      "outputs": [],
      "source": []
    }
  ],
  "metadata": {
    "accelerator": "GPU",
    "colab": {
      "gpuType": "T4",
      "provenance": [],
      "include_colab_link": true
    },
    "kernelspec": {
      "display_name": "Python 3",
      "language": "python",
      "name": "python3"
    },
    "language_info": {
      "codemirror_mode": {
        "name": "ipython",
        "version": 3
      },
      "file_extension": ".py",
      "mimetype": "text/x-python",
      "name": "python",
      "nbconvert_exporter": "python",
      "pygments_lexer": "ipython3",
      "version": "3.7.6"
    }
  },
  "nbformat": 4,
  "nbformat_minor": 0
}